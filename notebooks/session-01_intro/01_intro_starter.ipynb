{
 "cells": [
  {
   "cell_type": "markdown",
   "metadata": {},
   "source": [
    "# 🎓 Session 1 - Introduction à l'IA et au Machine Learning\n",
    "\n",
    "**Formation IA & ML - SupNum Nouakchott**  \n",
    "**Formateur:** Mohamed Beydia - Vela Learning  \n",
    "**Date:** [À compléter]\n",
    "\n",
    "---\n",
    "\n",
    "## 📋 Objectifs de la session\n",
    "\n",
    "À la fin de cette session, vous serez capables de :\n",
    "- [ ] Définir l'Intelligence Artificielle, le Machine Learning et le Deep Learning\n",
    "- [ ] Distinguer l'IA symbolique de l'IA statistique\n",
    "- [ ] Comprendre la différence entre IA analytique et générative\n",
    "- [ ] Identifier les trois familles principales du ML\n",
    "- [ ] Décrire le workflow standard d'un projet ML\n",
    "- [ ] Reconnaître des cas d'usage concrets d'IA\n",
    "\n",
    "---"
   ]
  },
  {
   "cell_type": "markdown",
   "metadata": {},
   "source": [
    "## 🤖 1. Qu'est-ce que l'Intelligence Artificielle ?\n",
    "\n",
    "### 📝 Exercice 1 - Définitions\n",
    "\n",
    "Avant de commencer, donnez votre propre définition de l'IA :"
   ]
  },
  {
   "cell_type": "markdown",
   "metadata": {},
   "source": [
    "**Votre définition ici :**\n",
    "\n",
    "_[Écrivez votre réponse ici]_"
   ]
  },
  {
   "cell_type": "markdown",
   "metadata": {},
   "source": [
    "### 🎯 Les définitions officielles\n",
    "\n",
    "Complétez les définitions suivantes :\n",
    "\n",
    "**Intelligence Artificielle (IA)** : ________________\n",
    "\n",
    "**Machine Learning (ML)** : ________________\n",
    "\n",
    "**Deep Learning (DL)** : ________________"
   ]
  },
  {
   "cell_type": "markdown",
   "metadata": {},
   "source": [
    "## 🔍 2. Types d'Intelligence Artificielle\n",
    "\n",
    "### 📝 Exercice 2 - IA Symbolique vs IA Statistique\n",
    "\n",
    "Classez les exemples suivants en **IA Symbolique** ou **IA Statistique** :\n",
    "\n",
    "1. Un système expert médical avec des règles if-then → **Type:** ________________\n",
    "2. Un modèle de reconnaissance d'images → **Type:** ________________\n",
    "3. Un chatbot basé sur des arbres de décision → **Type:** ________________\n",
    "4. Un algorithme de recommandation Netflix → **Type:** ________________\n",
    "5. Un système de diagnostic automatique → **Type:** ________________"
   ]
  },
  {
   "cell_type": "markdown",
   "metadata": {},
   "source": [
    "## 🎨 3. IA Analytique vs IA Générative\n",
    "\n",
    "### 📝 Exercice 3 - Classification des applications\n",
    "\n",
    "Pour chaque application, indiquez s'il s'agit d'**IA Analytique** ou d'**IA Générative** :\n",
    "\n",
    "| Application | Type IA | Justification |\n",
    "|-------------|---------|---------------|\n",
    "| ChatGPT | | |\n",
    "| Détection de spam | | |\n",
    "| DALL-E | | |\n",
    "| Prédiction de ventes | | |\n",
    "| GitHub Copilot | | |\n",
    "| Analyse de sentiments | | |"
   ]
  },
  {
   "cell_type": "markdown",
   "metadata": {},
   "source": [
    "## 📊 4. Les Familles du Machine Learning\n",
    "\n",
    "### 📝 Exercice 4 - Identification des familles ML\n",
    "\n",
    "Complétez le tableau suivant :\n",
    "\n",
    "| Famille ML | Définition | Exemple d'algorithme | Cas d'usage |\n",
    "|------------|------------|---------------------|-------------|\n",
    "| **Supervisé** | | | |\n",
    "| **Non supervisé** | | | |\n",
    "| **Par renforcement** | | | |"
   ]
  },
  {
   "cell_type": "markdown",
   "metadata": {},
   "source": [
    "## ⚙️ 5. Workflow Machine Learning\n",
    "\n",
    "### 📝 Exercice 5 - Ordonnancement des étapes\n",
    "\n",
    "Remettez les étapes suivantes du workflow ML dans le bon ordre :\n",
    "\n",
    "- [ ] Évaluation du modèle\n",
    "- [ ] Collecte des données\n",
    "- [ ] Déploiement\n",
    "- [ ] Préparation des données\n",
    "- [ ] Définition du problème\n",
    "- [ ] Entraînement du modèle\n",
    "- [ ] Sélection de l'algorithme\n",
    "- [ ] Monitoring et maintenance\n",
    "\n",
    "**Ordre correct :**\n",
    "1. ________________\n",
    "2. ________________\n",
    "3. ________________\n",
    "4. ________________\n",
    "5. ________________\n",
    "6. ________________\n",
    "7. ________________\n",
    "8. ________________"
   ]
  },
  {
   "cell_type": "markdown",
   "metadata": {},
   "source": [
    "## 🌍 6. Cas d'Usage de l'IA\n",
    "\n",
    "### 📝 Exercice 6 - Cas d'usage par secteur\n",
    "\n",
    "Pour chaque secteur, proposez 2-3 cas d'usage concrets de l'IA :\n",
    "\n",
    "#### 🎓 Éducation\n",
    "- ________________\n",
    "- ________________\n",
    "- ________________\n",
    "\n",
    "#### 💼 Business/Finance\n",
    "- ________________\n",
    "- ________________\n",
    "- ________________\n",
    "\n",
    "#### 🏥 Santé\n",
    "- ________________\n",
    "- ________________\n",
    "- ________________"
   ]
  },
  {
   "cell_type": "markdown",
   "metadata": {},
   "source": [
    "## 💻 7. Premiers pas avec Python pour l'IA\n",
    "\n",
    "### 📝 Exercice 7 - Setup de l'environnement\n",
    "\n",
    "Exécutez les cellules suivantes pour vérifier votre environnement :"
   ]
  },
  {
   "cell_type": "code",
   "execution_count": null,
   "metadata": {},
   "source": [
    "# Import des librairies essentielles\n",
    "import numpy as np\n",
    "import pandas as pd\n",
    "import matplotlib.pyplot as plt\n",
    "import seaborn as sns\n",
    "\n",
    "# Vérification des versions\n",
    "print(f\"NumPy version: {np.__version__}\")\n",
    "print(f\"Pandas version: {pd.__version__}\")\n",
    "\n",
    "# Test simple\n",
    "print(\"✅ Environnement prêt pour le Machine Learning !\")"
   ],
   "outputs": []
  },
  {
   "cell_type": "code",
   "execution_count": null,
   "metadata": {},
   "source": [
    "# Création d'un premier dataset simple\n",
    "# TODO: Créez un DataFrame avec les colonnes 'nom', 'age', 'score'\n",
    "# avec au moins 5 étudiants fictifs\n",
    "\n",
    "data = {\n",
    "    'nom': [],  # À compléter\n",
    "    'age': [],  # À compléter\n",
    "    'score': []  # À compléter\n",
    "}\n",
    "\n",
    "df = pd.DataFrame(data)\n",
    "print(df)"
   ],
   "outputs": []
  },
  {
   "cell_type": "code",
   "execution_count": null,
   "metadata": {},
   "source": [
    "# TODO: Créez un graphique simple montrant la relation age vs score\n",
    "plt.figure(figsize=(8, 6))\n",
    "# Votre code ici\n",
    "\n",
    "plt.title('Relation Age vs Score')\n",
    "plt.xlabel('Age')\n",
    "plt.ylabel('Score')\n",
    "plt.show()"
   ],
   "outputs": []
  },
  {
   "cell_type": "markdown",
   "metadata": {},
   "source": [
    "## 🎯 8. Récapitulatif et Questions\n",
    "\n",
    "### ✅ Ce que nous avons appris aujourd'hui :\n",
    "\n",
    "- [ ] Définitions de base : IA, ML, DL\n",
    "- [ ] Types d'IA : symbolique vs statistique\n",
    "- [ ] IA analytique vs générative\n",
    "- [ ] Les 3 familles du ML\n",
    "- [ ] Workflow standard ML\n",
    "- [ ] Cas d'usage sectoriels\n",
    "- [ ] Setup Python pour l'IA\n",
    "\n",
    "### ❓ Questions de réflexion\n",
    "\n",
    "1. **Quel type de problème ML aimeriez-vous résoudre dans votre domaine ?**\n",
    "\n",
    "_Votre réponse :_ ________________\n",
    "\n",
    "2. **Quelle est la différence principale entre ML supervisé et non supervisé ?**\n",
    "\n",
    "_Votre réponse :_ ________________\n",
    "\n",
    "3. **Donnez un exemple d'IA générative qui vous impressionne et expliquez pourquoi.**\n",
    "\n",
    "_Votre réponse :_ ________________"
   ]
  },
  {
   "cell_type": "markdown",
   "metadata": {},
   "source": [
    "---\n",
    "\n",
    "## 📚 Ressources pour aller plus loin\n",
    "\n",
    "### 📖 Lectures recommandées :\n",
    "- [Cours CS229 de Stanford](https://cs229.stanford.edu/)\n",
    "- [Introduction to Statistical Learning](https://www.statlearning.com/)\n",
    "- [Elements of AI (Université d'Helsinki)](https://www.elementsofai.com/)\n",
    "\n",
    "### 🎥 Vidéos :\n",
    "- [3Blue1Brown - Neural Networks](https://www.youtube.com/playlist?list=PLZHQObOWTQDNU6R1_67000Dx_ZCJB-3pi)\n",
    "- [Andrew Ng - Machine Learning Course](https://www.coursera.org/learn/machine-learning)\n",
    "\n",
    "### 🏗️ Prochaine session :\n",
    "**Session 2 - Régression et Prédiction**\n",
    "- Régression linéaire et polynomiale\n",
    "- Métriques d'évaluation\n",
    "- Cas pratique : prédiction de prix\n",
    "\n",
    "---\n",
    "\n",
    "**📧 Contact :** mohamed.beydia@vela-learning.com  \n",
    "**🌐 Vela Learning :** [https://vela-learning.com](https://vela-learning.com)"
   ]
  }
 ],
 "metadata": {
  "kernelspec": {
   "display_name": "Python 3",
   "language": "python",
   "name": "python3"
  },
  "language_info": {
   "codemirror_mode": {
    "name": "ipython",
    "version": 3
   },
   "file_extension": ".py",
   "mimetype": "text/x-python",
   "name": "python",
   "nbconvert_exporter": "python",
   "pygments_lexer": "ipython3",
   "version": "3.9.7"
  }
 },
 "nbformat": 4,
 "nbformat_minor": 4
}
