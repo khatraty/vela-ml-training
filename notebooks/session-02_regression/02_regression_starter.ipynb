{
 "cells": [
  {
   "cell_type": "markdown",
   "metadata": {},
   "source": [
    "# 📊 Session 2 - Régression et Prédiction\n",
    "## Notebook de démarrage\n",
    "\n",
    "**Objectifs:**\n",
    "- Comprendre la régression linéaire\n",
    "- Appliquer la régularisation\n",
    "- Évaluer avec RMSE, MAE, R²\n",
    "- Prédire les prix immobiliers\n",
    "\n",
    "**À compléter lors de la session...**"
   ]
  }
 ],
 "metadata": {
  "kernelspec": {
   "display_name": "Python 3",
   "language": "python",
   "name": "python3"
  },
  "language_info": {
   "name": "python",
   "version": "3.9.7"
  }
 },
 "nbformat": 4,
 "nbformat_minor": 4
}
