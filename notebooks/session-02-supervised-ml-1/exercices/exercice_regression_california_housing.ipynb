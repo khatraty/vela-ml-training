{
 "cells": [
  {
   "cell_type": "markdown",
   "id": "ce797c8b",
   "metadata": {},
   "source": [
    "\n",
    "# 🏠 EXERCICE PRATIQUE - Régression avec California Housing Dataset\n",
    "\n",
    "**Formation IA & ML - SupNum Nouakchott**  \n",
    "**Formateur:** Mohamed Beydia - Vela Learning\n",
    "\n",
    "---\n",
    "\n",
    "## 🎯 Objectifs de cet Exercice\n",
    "\n",
    "Dans cet exercice, vous allez appliquer les concepts de régression appris en cours sur un **dataset réel** : \n",
    "le California Housing Dataset qui contient des informations sur les prix des maisons en Californie.\n",
    "\n",
    "**🎯 Vos missions :**\n",
    "- [ ] Charger et explorer le dataset California Housing\n",
    "- [ ] Effectuer une analyse exploratoire des données (EDA)\n",
    "- [ ] Préparer les données (nettoyage, train/test split)\n",
    "- [ ] Construire plusieurs modèles de régression\n",
    "- [ ] Comparer les performances des modèles\n",
    "- [ ] Interpréter les résultats et faire des recommandations\n",
    "\n",
    "**📊 Dataset :** 20,640 observations de districts californiens avec 8 caractéristiques\n",
    "**🎯 Target :** Prix médian des maisons (en centaines de milliers de dollars)\n",
    "\n",
    "---\n",
    "\n",
    "## 📋 Instructions Générales\n",
    "\n",
    "- Suivez les étapes dans l'ordre\n",
    "- Complétez le code là où vous voyez `# VOTRE CODE ICI`\n",
    "- Répondez aux questions dans les cellules markdown\n",
    "- Justifiez vos choix de modèles et d'hyperparamètres\n",
    "- N'hésitez pas à ajouter des visualisations supplémentaires\n",
    "\n",
    "---"
   ]
  },
  {
   "cell_type": "markdown",
   "id": "56b36777",
   "metadata": {},
   "source": [
    "============================================================================\n",
    "ÉTAPE 1: IMPORTS ET CHARGEMENT DES DONNÉES\n",
    "============================================================================"
   ]
  },
  {
   "cell_type": "code",
   "execution_count": null,
   "id": "3ea83af4",
   "metadata": {},
   "outputs": [],
   "source": [
    "print(\"🚀 ÉTAPE 1: IMPORTS ET CHARGEMENT DES DONNÉES\")\n",
    "print(\"=\"*60)"
   ]
  },
  {
   "cell_type": "code",
   "execution_count": null,
   "id": "0209c337",
   "metadata": {},
   "outputs": [],
   "source": [
    "# VOTRE CODE ICI - Importez les librairies nécessaires\n",
    "# Indice: numpy, pandas, matplotlib, seaborn, sklearn\n",
    "import numpy as np\n",
    "import pandas as pd\n",
    "import matplotlib.pyplot as plt\n",
    "import seaborn as sns\n",
    "from sklearn.datasets import fetch_california_housing\n",
    "from sklearn.model_selection import train_test_split\n",
    "from sklearn.linear_model import LinearRegression, Ridge, Lasso\n",
    "from sklearn.ensemble import RandomForestRegressor\n",
    "from sklearn.metrics import mean_squared_error, mean_absolute_error, r2_score\n",
    "from sklearn.preprocessing import StandardScaler\n",
    "import warnings\n",
    "warnings.filterwarnings('ignore')"
   ]
  },
  {
   "cell_type": "code",
   "execution_count": null,
   "id": "761bff51",
   "metadata": {},
   "outputs": [],
   "source": [
    "# Configuration des graphiques\n",
    "plt.style.use('seaborn-v0_8')\n",
    "plt.rcParams['figure.figsize'] = (12, 8)\n",
    "sns.set_palette(\"husl\")"
   ]
  },
  {
   "cell_type": "code",
   "execution_count": null,
   "id": "8ee34d4a",
   "metadata": {},
   "outputs": [],
   "source": [
    "print(\"✅ Librairies importées avec succès!\")"
   ]
  },
  {
   "cell_type": "code",
   "execution_count": null,
   "id": "0da297a0",
   "metadata": {},
   "outputs": [],
   "source": [
    "# Chargement du dataset California Housing\n",
    "print(\"\\n📊 Chargement du dataset California Housing...\")"
   ]
  },
  {
   "cell_type": "code",
   "execution_count": null,
   "id": "d39f7d4f",
   "metadata": {},
   "outputs": [],
   "source": [
    "# VOTRE CODE ICI - Chargez le dataset avec fetch_california_housing()\n",
    "# Indice: utilisez return_X_y=False pour avoir les noms des features\n",
    "california_housing = fetch_california_housing(as_frame=True)"
   ]
  },
  {
   "cell_type": "code",
   "execution_count": null,
   "id": "a4f42380",
   "metadata": {},
   "outputs": [],
   "source": [
    "# Création du DataFrame complet\n",
    "data = california_housing.frame"
   ]
  },
  {
   "cell_type": "code",
   "execution_count": null,
   "id": "a32ba063",
   "metadata": {},
   "outputs": [],
   "source": [
    "print(f\"✅ Dataset chargé: {data.shape[0]} observations, {data.shape[1]} variables\")\n",
    "print(\"\\n📋 Aperçu des premières lignes:\")\n",
    "print(data.head())"
   ]
  },
  {
   "cell_type": "code",
   "execution_count": null,
   "id": "e886fc87",
   "metadata": {},
   "outputs": [],
   "source": [
    "print(\"\\n📊 Informations sur le dataset:\")\n",
    "print(data.info())"
   ]
  },
  {
   "cell_type": "markdown",
   "id": "63abbc16",
   "metadata": {},
   "source": [
    "============================================================================\n",
    "ÉTAPE 2: EXPLORATION DES DONNÉES (EDA)\n",
    "============================================================================"
   ]
  },
  {
   "cell_type": "code",
   "execution_count": null,
   "id": "529ed8e7",
   "metadata": {},
   "outputs": [],
   "source": [
    "print(\"\\n\\n🔍 ÉTAPE 2: EXPLORATION DES DONNÉES (EDA)\")\n",
    "print(\"=\"*60)"
   ]
  },
  {
   "cell_type": "code",
   "execution_count": null,
   "id": "2653f465",
   "metadata": {},
   "outputs": [],
   "source": [
    "print(\"📈 Description statistique du dataset:\")\n",
    "print(data.describe())"
   ]
  },
  {
   "cell_type": "code",
   "execution_count": null,
   "id": "1952b237",
   "metadata": {},
   "outputs": [],
   "source": [
    "# QUESTION 1: Analysez les statistiques descriptives\n",
    "\"\"\"\n",
    "❓ QUESTION 1: \n",
    "Analysez les statistiques descriptives ci-dessus. \n",
    "- Quelles variables ont les plus grandes variations (écart-type) ?\n",
    "- Y a-t-il des valeurs qui semblent aberrantes ?\n",
    "- Quelle est la distribution des prix (MedHouseVal) ?\n",
    "\n",
    "VOTRE RÉPONSE ICI:\n",
    "[Répondez ici en analysant les statistiques]\n",
    "\"\"\""
   ]
  },
  {
   "cell_type": "code",
   "execution_count": null,
   "id": "d821daa9",
   "metadata": {},
   "outputs": [],
   "source": [
    "# VOTRE CODE ICI - Créez un graphique de distribution de la variable cible\n",
    "# Indice: utilisez plt.hist() ou sns.histplot()\n",
    "print(\"\\n📊 Distribution de la variable cible (MedHouseVal):\")"
   ]
  },
  {
   "cell_type": "code",
   "execution_count": null,
   "id": "0ef11db9",
   "metadata": {},
   "outputs": [],
   "source": [
    "# VOTRE CODE ICI\n",
    "plt.figure(figsize=(10, 6))\n",
    "# Créez l'histogramme de MedHouseVal\n",
    "plt.show()"
   ]
  },
  {
   "cell_type": "code",
   "execution_count": null,
   "id": "b5394de6",
   "metadata": {},
   "outputs": [],
   "source": [
    "# VOTRE CODE ICI - Créez une matrice de corrélation\n",
    "print(\"\\n🔗 Matrice de corrélation entre toutes les variables:\")"
   ]
  },
  {
   "cell_type": "code",
   "execution_count": null,
   "id": "37a6ca1c",
   "metadata": {},
   "outputs": [],
   "source": [
    "# VOTRE CODE ICI\n",
    "# Calculez la matrice de corrélation et affichez-la avec un heatmap\n",
    "correlation_matrix = data.corr()"
   ]
  },
  {
   "cell_type": "code",
   "execution_count": null,
   "id": "adeae1c3",
   "metadata": {},
   "outputs": [],
   "source": [
    "plt.figure(figsize=(12, 10))\n",
    "# Créez le heatmap\n",
    "plt.show()"
   ]
  },
  {
   "cell_type": "code",
   "execution_count": null,
   "id": "280bab8c",
   "metadata": {},
   "outputs": [],
   "source": [
    "# QUESTION 2: Analyse des corrélations\n",
    "\"\"\"\n",
    "❓ QUESTION 2:\n",
    "En observant la matrice de corrélation:\n",
    "- Quelles variables sont le plus corrélées avec MedHouseVal (notre target) ?\n",
    "- Y a-t-il des variables très corrélées entre elles (multicolinéarité) ?\n",
    "- Quelles sont vos hypothèses sur les relations observées ?\n",
    "\n",
    "VOTRE RÉPONSE ICI:\n",
    "[Analysez les corrélations et donnez vos hypothèses]\n",
    "\"\"\""
   ]
  },
  {
   "cell_type": "markdown",
   "id": "37a7188f",
   "metadata": {},
   "source": [
    "============================================================================\n",
    "ÉTAPE 3: PRÉPARATION DES DONNÉES\n",
    "============================================================================"
   ]
  },
  {
   "cell_type": "code",
   "execution_count": null,
   "id": "55c278b0",
   "metadata": {},
   "outputs": [],
   "source": [
    "print(\"\\n\\n🛠️ ÉTAPE 3: PRÉPARATION DES DONNÉES\")\n",
    "print(\"=\"*60)"
   ]
  },
  {
   "cell_type": "code",
   "execution_count": null,
   "id": "43983ff0",
   "metadata": {},
   "outputs": [],
   "source": [
    "# Séparation des features et du target\n",
    "print(\"📊 Séparation des variables explicatives (X) et de la cible (y)\")"
   ]
  },
  {
   "cell_type": "code",
   "execution_count": null,
   "id": "90117830",
   "metadata": {},
   "outputs": [],
   "source": [
    "# VOTRE CODE ICI - Séparez X (features) et y (target)\n",
    "# Indice: toutes les colonnes sauf 'MedHouseVal' pour X, et 'MedHouseVal' pour y\n",
    "X = # VOTRE CODE ICI\n",
    "y = # VOTRE CODE ICI"
   ]
  },
  {
   "cell_type": "code",
   "execution_count": null,
   "id": "01b3c220",
   "metadata": {},
   "outputs": [],
   "source": [
    "print(f\"✅ X shape: {X.shape}\")\n",
    "print(f\"✅ y shape: {y.shape}\")"
   ]
  },
  {
   "cell_type": "code",
   "execution_count": null,
   "id": "153193c0",
   "metadata": {},
   "outputs": [],
   "source": [
    "# Train/Test Split\n",
    "print(\"\\n🔄 Division train/test (80%/20%)\")"
   ]
  },
  {
   "cell_type": "code",
   "execution_count": null,
   "id": "86903450",
   "metadata": {},
   "outputs": [],
   "source": [
    "# VOTRE CODE ICI - Divisez les données en train/test\n",
    "# Indice: utilisez train_test_split avec test_size=0.2 et random_state=42\n",
    "X_train, X_test, y_train, y_test = # VOTRE CODE ICI"
   ]
  },
  {
   "cell_type": "code",
   "execution_count": null,
   "id": "8f146daf",
   "metadata": {},
   "outputs": [],
   "source": [
    "print(f\"✅ Train set: {X_train.shape[0]} observations\")\n",
    "print(f\"✅ Test set: {X_test.shape[0]} observations\")"
   ]
  },
  {
   "cell_type": "code",
   "execution_count": null,
   "id": "1f9f7844",
   "metadata": {},
   "outputs": [],
   "source": [
    "# Standardisation des données (optionnel mais recommandé)\n",
    "print(\"\\n📏 Standardisation des features\")"
   ]
  },
  {
   "cell_type": "code",
   "execution_count": null,
   "id": "19db6abb",
   "metadata": {},
   "outputs": [],
   "source": [
    "# VOTRE CODE ICI - Créez un StandardScaler et transformez X_train et X_test\n",
    "# Indice: fit sur train, transform sur train et test\n",
    "scaler = StandardScaler()\n",
    "# VOTRE CODE ICI"
   ]
  },
  {
   "cell_type": "code",
   "execution_count": null,
   "id": "462b53e8",
   "metadata": {},
   "outputs": [],
   "source": [
    "print(\"✅ Standardisation terminée\")"
   ]
  },
  {
   "cell_type": "markdown",
   "id": "0d7d435f",
   "metadata": {},
   "source": [
    "============================================================================\n",
    "ÉTAPE 4: MODÉLISATION - RÉGRESSION LINÉAIRE SIMPLE\n",
    "============================================================================"
   ]
  },
  {
   "cell_type": "code",
   "execution_count": null,
   "id": "1939cf01",
   "metadata": {},
   "outputs": [],
   "source": [
    "print(\"\\n\\n🤖 ÉTAPE 4: MODÉLISATION - RÉGRESSION LINÉAIRE\")\n",
    "print(\"=\"*60)"
   ]
  },
  {
   "cell_type": "code",
   "execution_count": null,
   "id": "9ef5c4c5",
   "metadata": {},
   "outputs": [],
   "source": [
    "print(\"🏠 Construction du modèle de régression linéaire\")"
   ]
  },
  {
   "cell_type": "code",
   "execution_count": null,
   "id": "c793d9b6",
   "metadata": {},
   "outputs": [],
   "source": [
    "# VOTRE CODE ICI - Créez et entraînez un modèle LinearRegression\n",
    "model_linear = # VOTRE CODE ICI\n",
    "# Entraînez le modèle"
   ]
  },
  {
   "cell_type": "code",
   "execution_count": null,
   "id": "ffaa66a7",
   "metadata": {},
   "outputs": [],
   "source": [
    "print(\"✅ Modèle linéaire entraîné\")"
   ]
  },
  {
   "cell_type": "code",
   "execution_count": null,
   "id": "2a2e6b25",
   "metadata": {},
   "outputs": [],
   "source": [
    "# Prédictions\n",
    "# VOTRE CODE ICI - Faites des prédictions sur train et test\n",
    "y_train_pred_linear = # VOTRE CODE ICI\n",
    "y_test_pred_linear = # VOTRE CODE ICI"
   ]
  },
  {
   "cell_type": "code",
   "execution_count": null,
   "id": "1370992d",
   "metadata": {},
   "outputs": [],
   "source": [
    "# Évaluation\n",
    "print(\"\\n📊 Évaluation du modèle linéaire:\")"
   ]
  },
  {
   "cell_type": "code",
   "execution_count": null,
   "id": "09514a2c",
   "metadata": {},
   "outputs": [],
   "source": [
    "# VOTRE CODE ICI - Calculez MAE, RMSE et R² pour train et test\n",
    "# Train\n",
    "train_mae_linear = # VOTRE CODE ICI\n",
    "train_rmse_linear = # VOTRE CODE ICI\n",
    "train_r2_linear = # VOTRE CODE ICI"
   ]
  },
  {
   "cell_type": "code",
   "execution_count": null,
   "id": "dc43233d",
   "metadata": {},
   "outputs": [],
   "source": [
    "# Test\n",
    "test_mae_linear = # VOTRE CODE ICI\n",
    "test_rmse_linear = # VOTRE CODE ICI\n",
    "test_r2_linear = # VOTRE CODE ICI"
   ]
  },
  {
   "cell_type": "code",
   "execution_count": null,
   "id": "959d51ed",
   "metadata": {},
   "outputs": [],
   "source": [
    "print(f\"📈 TRAIN - MAE: {train_mae_linear:.3f}, RMSE: {train_rmse_linear:.3f}, R²: {train_r2_linear:.3f}\")\n",
    "print(f\"📉 TEST  - MAE: {test_mae_linear:.3f}, RMSE: {test_rmse_linear:.3f}, R²: {test_r2_linear:.3f}\")"
   ]
  },
  {
   "cell_type": "markdown",
   "id": "f6dd769a",
   "metadata": {},
   "source": [
    "============================================================================\n",
    "ÉTAPE 5: MODÈLES AVANCÉS\n",
    "============================================================================"
   ]
  },
  {
   "cell_type": "code",
   "execution_count": null,
   "id": "bcf95b70",
   "metadata": {},
   "outputs": [],
   "source": [
    "print(\"\\n\\n🚀 ÉTAPE 5: MODÈLES AVANCÉS\")\n",
    "print(\"=\"*60)"
   ]
  },
  {
   "cell_type": "markdown",
   "id": "5d61060f",
   "metadata": {},
   "source": [
    "VOTRE CODE ICI - Créez et entraînez les modèles suivants:\n",
    "1. Ridge Regression (alpha=1.0)\n",
    "2. Lasso Regression (alpha=0.1)  \n",
    "3. Random Forest (n_estimators=100, random_state=42)"
   ]
  },
  {
   "cell_type": "code",
   "execution_count": null,
   "id": "f67c7003",
   "metadata": {},
   "outputs": [],
   "source": [
    "print(\"🌲 Construction des modèles avancés...\")"
   ]
  },
  {
   "cell_type": "code",
   "execution_count": null,
   "id": "2ad8a31b",
   "metadata": {},
   "outputs": [],
   "source": [
    "# Ridge\n",
    "model_ridge = # VOTRE CODE ICI"
   ]
  },
  {
   "cell_type": "code",
   "execution_count": null,
   "id": "5ff97863",
   "metadata": {},
   "outputs": [],
   "source": [
    "# Lasso  \n",
    "model_lasso = # VOTRE CODE ICI"
   ]
  },
  {
   "cell_type": "code",
   "execution_count": null,
   "id": "71798a3a",
   "metadata": {},
   "outputs": [],
   "source": [
    "# Random Forest\n",
    "model_rf = # VOTRE CODE ICI"
   ]
  },
  {
   "cell_type": "code",
   "execution_count": null,
   "id": "b4cda8e7",
   "metadata": {},
   "outputs": [],
   "source": [
    "print(\"✅ Tous les modèles sont entraînés\")"
   ]
  },
  {
   "cell_type": "markdown",
   "id": "9306bf14",
   "metadata": {},
   "source": [
    "============================================================================\n",
    "ÉTAPE 6: COMPARAISON DES MODÈLES\n",
    "============================================================================"
   ]
  },
  {
   "cell_type": "code",
   "execution_count": null,
   "id": "a9d9135a",
   "metadata": {},
   "outputs": [],
   "source": [
    "print(\"\\n\\n⚖️ ÉTAPE 6: COMPARAISON DES MODÈLES\")\n",
    "print(\"=\"*60)"
   ]
  },
  {
   "cell_type": "markdown",
   "id": "bd1c9898",
   "metadata": {},
   "source": [
    "VOTRE CODE ICI - Créez un DataFrame pour comparer les performances\n",
    "Calculez les métriques pour tous les modèles et créez un tableau comparatif"
   ]
  },
  {
   "cell_type": "code",
   "execution_count": null,
   "id": "99370b01",
   "metadata": {},
   "outputs": [],
   "source": [
    "models = {\n",
    "    'Linear': model_linear,\n",
    "    'Ridge': model_ridge, \n",
    "    'Lasso': model_lasso,\n",
    "    'Random Forest': model_rf\n",
    "}"
   ]
  },
  {
   "cell_type": "code",
   "execution_count": null,
   "id": "253e1372",
   "metadata": {},
   "outputs": [],
   "source": [
    "results = []"
   ]
  },
  {
   "cell_type": "code",
   "execution_count": null,
   "id": "e868d9b9",
   "metadata": {},
   "outputs": [],
   "source": [
    "for name, model in models.items():\n",
    "    # VOTRE CODE ICI - Calculez les métriques pour chaque modèle\n",
    "    # Prédictions\n",
    "    y_train_pred = # VOTRE CODE ICI\n",
    "    y_test_pred = # VOTRE CODE ICI\n",
    "    \n",
    "    # Métriques\n",
    "    train_r2 = # VOTRE CODE ICI\n",
    "    test_r2 = # VOTRE CODE ICI\n",
    "    train_rmse = # VOTRE CODE ICI  \n",
    "    test_rmse = # VOTRE CODE ICI\n",
    "    \n",
    "    results.append({\n",
    "        'Model': name,\n",
    "        'Train_R2': train_r2,\n",
    "        'Test_R2': test_r2,\n",
    "        'Train_RMSE': train_rmse,\n",
    "        'Test_RMSE': test_rmse,\n",
    "        'Overfitting': train_r2 - test_r2\n",
    "    })"
   ]
  },
  {
   "cell_type": "code",
   "execution_count": null,
   "id": "818d952b",
   "metadata": {},
   "outputs": [],
   "source": [
    "results_df = pd.DataFrame(results)\n",
    "print(\"📊 Comparaison des performances:\")\n",
    "print(results_df.round(4))"
   ]
  },
  {
   "cell_type": "code",
   "execution_count": null,
   "id": "bc046119",
   "metadata": {},
   "outputs": [],
   "source": [
    "# QUESTION 3: Analyse des résultats\n",
    "\"\"\"\n",
    "❓ QUESTION 3:\n",
    "En analysant le tableau de comparaison:\n",
    "- Quel modèle performe le mieux sur les données de test ?\n",
    "- Y a-t-il des signes d'overfitting ? Comment le détectez-vous ?\n",
    "- Quel modèle recommanderiez-vous et pourquoi ?\n",
    "\n",
    "VOTRE RÉPONSE ICI:\n",
    "[Analysez les résultats et justifiez votre choix]\n",
    "\"\"\""
   ]
  },
  {
   "cell_type": "markdown",
   "id": "9d85bce5",
   "metadata": {},
   "source": [
    "============================================================================\n",
    "ÉTAPE 7: VISUALISATION DES RÉSULTATS\n",
    "============================================================================"
   ]
  },
  {
   "cell_type": "code",
   "execution_count": null,
   "id": "45ddaeba",
   "metadata": {},
   "outputs": [],
   "source": [
    "print(\"\\n\\n📊 ÉTAPE 7: VISUALISATION DES RÉSULTATS\")\n",
    "print(\"=\"*60)"
   ]
  },
  {
   "cell_type": "markdown",
   "id": "b1e8ad5b",
   "metadata": {},
   "source": [
    "VOTRE CODE ICI - Créez des visualisations pour analyser les modèles\n",
    "1. Graphique des prédictions vs réalité pour le meilleur modèle\n",
    "2. Distribution des résidus\n",
    "3. Importance des features (pour Random Forest)"
   ]
  },
  {
   "cell_type": "code",
   "execution_count": null,
   "id": "fd77c9ed",
   "metadata": {},
   "outputs": [],
   "source": [
    "# Sélectionnez votre meilleur modèle\n",
    "best_model = # VOTRE CODE ICI (ex: model_rf)\n",
    "best_model_name = # VOTRE CODE ICI (ex: \"Random Forest\")"
   ]
  },
  {
   "cell_type": "code",
   "execution_count": null,
   "id": "c1599512",
   "metadata": {},
   "outputs": [],
   "source": [
    "# Graphique 1: Prédictions vs Réalité\n",
    "plt.figure(figsize=(15, 5))"
   ]
  },
  {
   "cell_type": "code",
   "execution_count": null,
   "id": "10660a09",
   "metadata": {},
   "outputs": [],
   "source": [
    "plt.subplot(1, 3, 1)\n",
    "# VOTRE CODE ICI - Créez un scatter plot prédictions vs réalité\n",
    "plt.title(f'{best_model_name}: Prédictions vs Réalité')"
   ]
  },
  {
   "cell_type": "code",
   "execution_count": null,
   "id": "201b1f29",
   "metadata": {},
   "outputs": [],
   "source": [
    "# Graphique 2: Distribution des résidus\n",
    "plt.subplot(1, 3, 2)\n",
    "# VOTRE CODE ICI - Calculez les résidus et créez un histogramme\n",
    "residuals = # VOTRE CODE ICI\n",
    "plt.title('Distribution des Résidus')"
   ]
  },
  {
   "cell_type": "code",
   "execution_count": null,
   "id": "e37f08f9",
   "metadata": {},
   "outputs": [],
   "source": [
    "# Graphique 3: Importance des features (si Random Forest)\n",
    "plt.subplot(1, 3, 3)\n",
    "if hasattr(best_model, 'feature_importances_'):\n",
    "    # VOTRE CODE ICI - Affichez l'importance des features\n",
    "    importances = # VOTRE CODE ICI\n",
    "    feature_names = # VOTRE CODE ICI\n",
    "    plt.title('Importance des Features')"
   ]
  },
  {
   "cell_type": "code",
   "execution_count": null,
   "id": "dee206b7",
   "metadata": {},
   "outputs": [],
   "source": [
    "plt.tight_layout()\n",
    "plt.show()"
   ]
  },
  {
   "cell_type": "markdown",
   "id": "f91688ea",
   "metadata": {},
   "source": [
    "============================================================================\n",
    "ÉTAPE 8: INTERPRÉTATION BUSINESS ET RECOMMANDATIONS\n",
    "============================================================================"
   ]
  },
  {
   "cell_type": "code",
   "execution_count": null,
   "id": "0e47a273",
   "metadata": {},
   "outputs": [],
   "source": [
    "print(\"\\n\\n💼 ÉTAPE 8: INTERPRÉTATION BUSINESS\")\n",
    "print(\"=\"*60)"
   ]
  },
  {
   "cell_type": "code",
   "execution_count": null,
   "id": "ac7454da",
   "metadata": {},
   "outputs": [],
   "source": [
    "print(\"🎯 Résumé de l'analyse:\")\n",
    "print(f\"✅ Meilleur modèle: {best_model_name}\")\n",
    "print(f\"✅ R² sur test: {# VOTRE CODE ICI:.3f}\")\n",
    "print(f\"✅ RMSE sur test: {# VOTRE CODE ICI:.3f} (en centaines de milliers de $)\")"
   ]
  },
  {
   "cell_type": "code",
   "execution_count": null,
   "id": "4b92448c",
   "metadata": {},
   "outputs": [],
   "source": [
    "# QUESTION 4: Recommandations business\n",
    "\"\"\"\n",
    "❓ QUESTION 4 - RECOMMANDATIONS BUSINESS:\n",
    "\n",
    "Basé sur votre analyse, répondez aux questions suivantes:\n",
    "\n",
    "1. **Précision du modèle**: Votre modèle est-il suffisamment précis pour être utilisé en production ? \n",
    "   Justifiez avec les métriques.\n",
    "\n",
    "2. **Variables importantes**: Quelles sont les 3 variables les plus importantes pour prédire le prix ? \n",
    "   Que cela signifie-t-il en termes business ?\n",
    "\n",
    "3. **Limitations**: Quelles sont les principales limitations de votre modèle ? \n",
    "   Quelles améliorations proposeriez-vous ?\n",
    "\n",
    "4. **Recommandations**: Si vous étiez consultant pour une agence immobilière californienne, \n",
    "   quelles recommandations donneriez-vous basées sur cette analyse ?\n",
    "\n",
    "VOTRE RÉPONSE ICI:\n",
    "[Rédigez vos recommandations business détaillées]\n",
    "\"\"\""
   ]
  },
  {
   "cell_type": "markdown",
   "id": "d3bb7d87",
   "metadata": {},
   "source": [
    "============================================================================\n",
    "BONUS: PRÉDICTIONS SUR NOUVEAUX EXEMPLES\n",
    "============================================================================"
   ]
  },
  {
   "cell_type": "code",
   "execution_count": null,
   "id": "8fc4b1e8",
   "metadata": {},
   "outputs": [],
   "source": [
    "print(\"\\n\\n🎁 BONUS: PRÉDICTIONS SUR NOUVEAUX EXEMPLES\")\n",
    "print(\"=\"*60)"
   ]
  },
  {
   "cell_type": "markdown",
   "id": "072df1d1",
   "metadata": {},
   "source": [
    "VOTRE CODE ICI - Créez quelques exemples fictifs et faites des prédictions\n",
    "Exemple: une maison avec des caractéristiques moyennes, une maison de luxe, etc."
   ]
  },
  {
   "cell_type": "code",
   "execution_count": null,
   "id": "ebc51236",
   "metadata": {},
   "outputs": [],
   "source": [
    "print(\"🏠 Exemples de prédictions:\")"
   ]
  },
  {
   "cell_type": "code",
   "execution_count": null,
   "id": "e589c19b",
   "metadata": {},
   "outputs": [],
   "source": [
    "# Exemple 1: Maison moyenne\n",
    "exemple_moyen = # VOTRE CODE ICI - Créez un exemple avec des valeurs moyennes\n",
    "prix_predit_moyen = # VOTRE CODE ICI - Prédiction"
   ]
  },
  {
   "cell_type": "code",
   "execution_count": null,
   "id": "0324b3be",
   "metadata": {},
   "outputs": [],
   "source": [
    "# Exemple 2: Maison de luxe  \n",
    "exemple_luxe = # VOTRE CODE ICI - Créez un exemple avec des valeurs élevées\n",
    "prix_predit_luxe = # VOTRE CODE ICI - Prédiction"
   ]
  },
  {
   "cell_type": "code",
   "execution_count": null,
   "id": "e9f132c0",
   "metadata": {},
   "outputs": [],
   "source": [
    "print(f\"💰 Maison moyenne: {prix_predit_moyen[0]:.2f} centaines de milliers de $\")\n",
    "print(f\"💎 Maison de luxe: {prix_predit_luxe[0]:.2f} centaines de milliers de $\")"
   ]
  },
  {
   "cell_type": "code",
   "execution_count": null,
   "id": "3855aa59",
   "metadata": {},
   "outputs": [],
   "source": [
    "print(\"\\n🎉 FÉLICITATIONS ! Vous avez terminé l'exercice de régression !\")\n",
    "print(\"📝 N'oubliez pas de répondre à toutes les questions dans les cellules markdown.\")"
   ]
  },
  {
   "cell_type": "markdown",
   "id": "87fc0986",
   "metadata": {},
   "source": [
    "============================================================================\n",
    "AIDE-MÉMOIRE\n",
    "============================================================================"
   ]
  },
  {
   "cell_type": "markdown",
   "id": "3c3d84e7",
   "metadata": {},
   "source": [
    "📚 AIDE-MÉMOIRE - Fonctions utiles:\n",
    "\n",
    "CHARGEMENT DE DONNÉES:\n",
    "- fetch_california_housing(as_frame=True)\n",
    "- pd.DataFrame()\n",
    "\n",
    "EXPLORATION:\n",
    "- data.describe()\n",
    "- data.corr()\n",
    "- plt.hist(data['column'])\n",
    "- sns.heatmap(correlation_matrix, annot=True)\n",
    "\n",
    "PRÉPARATION:\n",
    "- train_test_split(X, y, test_size=0.2, random_state=42)\n",
    "- StandardScaler().fit_transform()\n",
    "\n",
    "MODÈLES:\n",
    "- LinearRegression().fit(X_train, y_train)\n",
    "- Ridge(alpha=1.0).fit(X_train, y_train)\n",
    "- Lasso(alpha=0.1).fit(X_train, y_train)\n",
    "- RandomForestRegressor(n_estimators=100).fit(X_train, y_train)\n",
    "\n",
    "MÉTRIQUES:\n",
    "- mean_absolute_error(y_true, y_pred)\n",
    "- mean_squared_error(y_true, y_pred, squared=False)  # RMSE\n",
    "- r2_score(y_true, y_pred)\n",
    "\n",
    "VISUALISATION:\n",
    "- plt.scatter(y_true, y_pred)\n",
    "- plt.hist(residuals)\n",
    "- plt.barh(feature_names, importances)\n"
   ]
  }
 ],
 "metadata": {
  "jupytext": {
   "cell_metadata_filter": "-all",
   "encoding": "# -*- coding: utf-8 -*-",
   "main_language": "python",
   "notebook_metadata_filter": "-all"
  },
  "language_info": {
   "name": "python"
  }
 },
 "nbformat": 4,
 "nbformat_minor": 5
}
