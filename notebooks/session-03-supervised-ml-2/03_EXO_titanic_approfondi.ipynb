{
 "cells": [
  {
   "cell_type": "markdown",
   "id": "2d51945e",
   "metadata": {
    "cell_marker": "\"\"\""
   },
   "source": [
    "# Exercice Pratique : Analyse Avancée du Dataset Titanic\n",
    "\n",
    "## Objectifs\n",
    "Dans cet exercice, vous allez :\n",
    "1. **Explorer** le dataset Titanic en profondeur (EDA)\n",
    "2. **Appliquer** une validation croisée pour évaluer les modèles\n",
    "3. **Créer** de nouvelles features pour améliorer les performances\n",
    "\n",
    "## Instructions\n",
    "- Complétez les sections marquées `# TODO`\n",
    "- Suivez les guides fournis\n",
    "- Analysez vos résultats et tirez des conclusions"
   ]
  },
  {
   "cell_type": "code",
   "execution_count": null,
   "id": "a5e953de",
   "metadata": {},
   "outputs": [],
   "source": [
    "# Configuration de l'environnement\n",
    "import pandas as pd\n",
    "import numpy as np\n",
    "import matplotlib.pyplot as plt\n",
    "import seaborn as sns\n",
    "from sklearn.model_selection import train_test_split, cross_val_score, StratifiedKFold\n",
    "from sklearn.preprocessing import LabelEncoder, StandardScaler\n",
    "from sklearn.metrics import accuracy_score, precision_score, recall_score, f1_score\n",
    "from sklearn.metrics import confusion_matrix, classification_report\n",
    "\n",
    "# Les 4 algorithmes\n",
    "from sklearn.naive_bayes import GaussianNB\n",
    "from sklearn.tree import DecisionTreeClassifier\n",
    "from sklearn.linear_model import LogisticRegression\n",
    "from sklearn.neighbors import KNeighborsClassifier\n",
    "\n",
    "import warnings\n",
    "warnings.filterwarnings('ignore')\n",
    "\n",
    "# Configuration graphique\n",
    "plt.style.use('default')\n",
    "sns.set_palette(\"husl\")\n",
    "plt.rcParams['figure.figsize'] = (12, 6)\n",
    "\n",
    "print(\"Environnement configuré\")"
   ]
  },
  {
   "cell_type": "markdown",
   "id": "e7731e1a",
   "metadata": {
    "cell_marker": "\"\"\""
   },
   "source": [
    "## 1. Chargement et Premier Aperçu des Données"
   ]
  },
  {
   "cell_type": "code",
   "execution_count": null,
   "id": "f8fd28de",
   "metadata": {},
   "outputs": [],
   "source": [
    "# Chargement du dataset\n",
    "url = \"https://raw.githubusercontent.com/datasciencedojo/datasets/master/titanic.csv\"\n",
    "df = pd.read_csv(url)\n",
    "\n",
    "print(\"Dataset chargé avec succès\")\n",
    "print(f\"Dimensions: {df.shape}\")\n",
    "\n",
    "# Premier aperçu\n",
    "print(\"\\nPremier aperçu:\")\n",
    "print(df.head())\n",
    "\n",
    "print(\"\\nInformations générales:\")\n",
    "print(df.info())"
   ]
  },
  {
   "cell_type": "markdown",
   "id": "abb9df6d",
   "metadata": {
    "cell_marker": "\"\"\""
   },
   "source": [
    "## 2. Analyse Exploratoire des Données (EDA)\n",
    "\n",
    "### Question 1: Analyse des valeurs manquantes\n",
    "Analysez les valeurs manquantes dans le dataset. Quelles colonnes ont des valeurs manquantes et dans quelles proportions ?"
   ]
  },
  {
   "cell_type": "code",
   "execution_count": null,
   "id": "752a6111",
   "metadata": {},
   "outputs": [],
   "source": [
    "# TODO: Analysez les valeurs manquantes\n",
    "# Guide: Utilisez df.isnull().sum() et calculez les pourcentages\n",
    "# Créez une visualisation si nécessaire\n",
    "\n",
    "# Votre code ici:\n",
    "missing_data = None  # Remplacez par votre analyse\n",
    "\n",
    "# TODO: Affichez les résultats de manière claire\n",
    "print(\"Analyse des valeurs manquantes:\")\n",
    "# Votre code d'affichage ici"
   ]
  },
  {
   "cell_type": "markdown",
   "id": "23599cb0",
   "metadata": {
    "cell_marker": "\"\"\""
   },
   "source": [
    "### Question 2: Distribution de la variable cible\n",
    "Analysez la distribution de la variable 'Survived'. Le dataset est-il équilibré ?"
   ]
  },
  {
   "cell_type": "code",
   "execution_count": null,
   "id": "c61ce8e3",
   "metadata": {},
   "outputs": [],
   "source": [
    "# TODO: Analysez la distribution de 'Survived'\n",
    "# Guide: Utilisez value_counts() et créez un graphique\n",
    "\n",
    "# Votre code ici:\n",
    "survival_distribution = None  # Remplacez par votre analyse\n",
    "\n",
    "# TODO: Créez une visualisation\n",
    "# Guide: Utilisez plt.subplot() pour créer des graphiques côte à côte\n",
    "\n",
    "# Votre code de visualisation ici"
   ]
  },
  {
   "cell_type": "markdown",
   "id": "44728638",
   "metadata": {
    "cell_marker": "\"\"\""
   },
   "source": [
    "### Question 3: Analyse par caractéristiques\n",
    "Analysez la relation entre la survie et les différentes caractéristiques (Sexe, Classe, Age, etc.)"
   ]
  },
  {
   "cell_type": "code",
   "execution_count": null,
   "id": "22fa133f",
   "metadata": {},
   "outputs": [],
   "source": [
    "# TODO: Analysez la survie par sexe\n",
    "# Guide: Utilisez groupby() et créez un graphique en barres\n",
    "\n",
    "print(\"Analyse de la survie par sexe:\")\n",
    "# Votre code ici\n",
    "\n",
    "# TODO: Analysez la survie par classe\n",
    "print(\"\\nAnalyse de la survie par classe:\")\n",
    "# Votre code ici\n",
    "\n",
    "# TODO: Analysez la distribution des âges par survie\n",
    "print(\"\\nAnalyse de la survie par âge:\")\n",
    "# Guide: Utilisez des histogrammes ou boxplots\n",
    "# Votre code ici"
   ]
  },
  {
   "cell_type": "markdown",
   "id": "83a90de2",
   "metadata": {
    "cell_marker": "\"\"\""
   },
   "source": [
    "### Question 4: Corrélations\n",
    "Analysez les corrélations entre les variables numériques."
   ]
  },
  {
   "cell_type": "code",
   "execution_count": null,
   "id": "4e6179f9",
   "metadata": {},
   "outputs": [],
   "source": [
    "# TODO: Calculez et visualisez la matrice de corrélation\n",
    "# Guide: Utilisez df.corr() et sns.heatmap()\n",
    "\n",
    "# Sélectionnez d'abord les colonnes numériques\n",
    "numeric_cols = None  # Identifiez les colonnes numériques\n",
    "\n",
    "# Votre code de corrélation ici"
   ]
  },
  {
   "cell_type": "markdown",
   "id": "979a138d",
   "metadata": {
    "cell_marker": "\"\"\""
   },
   "source": [
    "### Question 5: Insights de l'EDA\n",
    "Basé sur votre analyse, quels sont les facteurs les plus importants pour la survie ?\n",
    "Rédigez vos observations ci-dessous."
   ]
  },
  {
   "cell_type": "markdown",
   "id": "ff9e25f9",
   "metadata": {
    "cell_marker": "\"\"\""
   },
   "source": [
    "**Vos observations:**\n",
    "- \n",
    "- \n",
    "- "
   ]
  },
  {
   "cell_type": "markdown",
   "id": "057ee9b6",
   "metadata": {
    "cell_marker": "\"\"\""
   },
   "source": [
    "## 3. Préparation des Données"
   ]
  },
  {
   "cell_type": "code",
   "execution_count": null,
   "id": "d25f947a",
   "metadata": {},
   "outputs": [],
   "source": [
    "# Nettoyage des données basé sur votre EDA\n",
    "df_clean = df.copy()\n",
    "\n",
    "# TODO: Gérez les valeurs manquantes basé sur votre analyse EDA\n",
    "# Guide: Utilisez les insights de votre EDA pour décider comment traiter chaque variable\n",
    "\n",
    "# Age\n",
    "if 'Age' in df_clean.columns and df_clean['Age'].isnull().sum() > 0:\n",
    "    # TODO: Choisissez une stratégie (médiane, moyenne, ou plus sophistiqué)\n",
    "    # Votre code ici\n",
    "    pass\n",
    "\n",
    "# Embarked\n",
    "if 'Embarked' in df_clean.columns and df_clean['Embarked'].isnull().sum() > 0:\n",
    "    # TODO: Gérez les valeurs manquantes\n",
    "    # Votre code ici\n",
    "    pass\n",
    "\n",
    "# Fare\n",
    "if 'Fare' in df_clean.columns and df_clean['Fare'].isnull().sum() > 0:\n",
    "    # TODO: Gérez les valeurs manquantes\n",
    "    # Votre code ici\n",
    "    pass\n",
    "\n",
    "# Suppression des colonnes non nécessaires\n",
    "columns_to_drop = ['PassengerId', 'Name', 'Ticket', 'Cabin']\n",
    "df_clean = df_clean.drop(columns=[col for col in columns_to_drop if col in df_clean.columns])\n",
    "\n",
    "print(\"Données nettoyées\")\n",
    "print(f\"Nouvelles dimensions: {df_clean.shape}\")"
   ]
  },
  {
   "cell_type": "markdown",
   "id": "09527ed4",
   "metadata": {
    "cell_marker": "\"\"\""
   },
   "source": [
    "## 4. Feature Engineering\n",
    "\n",
    "### Question 6: Création de nouvelles features\n",
    "Créez de nouvelles variables qui pourraient améliorer les performances des modèles."
   ]
  },
  {
   "cell_type": "code",
   "execution_count": null,
   "id": "22d5485b",
   "metadata": {},
   "outputs": [],
   "source": [
    "# TODO: Créez de nouvelles features basées sur votre EDA\n",
    "# Voici quelques suggestions, implémentez celles qui vous semblent pertinentes:\n",
    "\n",
    "# 1. Taille de la famille\n",
    "# Guide: Combinez SibSp et Parch\n",
    "# Votre code ici\n",
    "\n",
    "# 2. Catégorie d'âge\n",
    "# Guide: Créez des groupes d'âge (enfant, adulte, senior)\n",
    "# Votre code ici\n",
    "\n",
    "# 3. Titre extrait du nom (si vous voulez être créatif)\n",
    "# Guide: Extrayez Mr., Mrs., Miss., etc. du nom original\n",
    "# Votre code ici (optionnel)\n",
    "\n",
    "# 4. Prix par personne (si voyage en groupe)\n",
    "# Guide: Divisez Fare par la taille de la famille\n",
    "# Votre code ici\n",
    "\n",
    "# 5. Autres features créatives basées sur votre EDA\n",
    "# Votre code ici\n",
    "\n",
    "print(\"Features créées\")\n",
    "print(f\"Nouvelles colonnes: {df_clean.columns.tolist()}\")"
   ]
  },
  {
   "cell_type": "markdown",
   "id": "d431ea6e",
   "metadata": {
    "cell_marker": "\"\"\""
   },
   "source": [
    "## 5. Préparation pour la Modélisation"
   ]
  },
  {
   "cell_type": "code",
   "execution_count": null,
   "id": "8b5e8da4",
   "metadata": {},
   "outputs": [],
   "source": [
    "# Encodage des variables catégorielles\n",
    "# TODO: Encodez les variables catégorielles\n",
    "# Guide: Utilisez LabelEncoder ou get_dummies selon le cas\n",
    "\n",
    "# Votre code d'encodage ici\n",
    "\n",
    "# Sélection des features et de la cible\n",
    "# TODO: Sélectionnez vos features finales\n",
    "features = []  # Listez vos features ici\n",
    "target = 'Survived'\n",
    "\n",
    "X = df_clean[features]\n",
    "y = df_clean[target]\n",
    "\n",
    "print(f\"Features sélectionnées: {features}\")\n",
    "print(f\"Dimensions finales: X={X.shape}, y={y.shape}\")"
   ]
  },
  {
   "cell_type": "markdown",
   "id": "d0f21b6a",
   "metadata": {
    "cell_marker": "\"\"\""
   },
   "source": [
    "## 6. Validation Croisée\n",
    "\n",
    "### Question 7: Implémentation de la validation croisée\n",
    "Implémentez une validation croisée pour évaluer vos modèles de manière plus robuste."
   ]
  },
  {
   "cell_type": "code",
   "execution_count": null,
   "id": "a767c79f",
   "metadata": {},
   "outputs": [],
   "source": [
    "# TODO: Configurez la validation croisée\n",
    "# Guide: Utilisez StratifiedKFold avec 5 ou 10 folds\n",
    "\n",
    "cv_strategy = None  # Configurez votre stratégie de CV ici\n",
    "\n",
    "# Initialisation des modèles\n",
    "models = {\n",
    "    'Naive Bayes': GaussianNB(),\n",
    "    'Decision Tree': DecisionTreeClassifier(random_state=42, max_depth=5),\n",
    "    'Logistic Regression': LogisticRegression(random_state=42, max_iter=1000),\n",
    "    'KNN': KNeighborsClassifier(n_neighbors=5)\n",
    "}\n",
    "\n",
    "# TODO: Appliquez la validation croisée à chaque modèle\n",
    "# Guide: Utilisez cross_val_score avec différentes métriques\n",
    "\n",
    "cv_results = {}\n",
    "\n",
    "for name, model in models.items():\n",
    "    print(f\"\\nÉvaluation de {name}:\")\n",
    "    \n",
    "    # TODO: Calculez les scores de validation croisée\n",
    "    # Utilisez différentes métriques: accuracy, precision, recall, f1\n",
    "    \n",
    "    # Accuracy\n",
    "    accuracy_scores = None  # Votre code ici\n",
    "    \n",
    "    # Precision\n",
    "    precision_scores = None  # Votre code ici\n",
    "    \n",
    "    # Recall\n",
    "    recall_scores = None  # Votre code ici\n",
    "    \n",
    "    # F1-score\n",
    "    f1_scores = None  # Votre code ici\n",
    "    \n",
    "    # TODO: Stockez et affichez les résultats\n",
    "    cv_results[name] = {\n",
    "        'accuracy': accuracy_scores,\n",
    "        'precision': precision_scores,\n",
    "        'recall': recall_scores,\n",
    "        'f1': f1_scores\n",
    "    }\n",
    "    \n",
    "    # Affichez les moyennes et écarts-types\n",
    "    # Votre code d'affichage ici"
   ]
  },
  {
   "cell_type": "markdown",
   "id": "e00f4eb4",
   "metadata": {
    "cell_marker": "\"\"\""
   },
   "source": [
    "### Question 8: Comparaison des résultats\n",
    "Comparez les résultats de la validation croisée avec ceux du cours (simple train/test split)."
   ]
  },
  {
   "cell_type": "code",
   "execution_count": null,
   "id": "e6ce5f00",
   "metadata": {},
   "outputs": [],
   "source": [
    "# TODO: Créez une visualisation comparative des résultats CV\n",
    "# Guide: Utilisez des boxplots ou des barres avec barres d'erreur\n",
    "\n",
    "# Votre code de visualisation ici\n",
    "\n",
    "# TODO: Calculez les moyennes pour comparaison\n",
    "print(\"Résultats moyens de la validation croisée:\")\n",
    "# Votre code de calcul et affichage ici"
   ]
  },
  {
   "cell_type": "markdown",
   "id": "1571b5c6",
   "metadata": {
    "cell_marker": "\"\"\""
   },
   "source": [
    "## 7. Test Final avec Train/Test Split\n",
    "\n",
    "### Question 9: Comparaison avec le cours\n",
    "Entraînez vos modèles avec vos nouvelles features sur un simple train/test split et comparez avec les résultats du cours."
   ]
  },
  {
   "cell_type": "code",
   "execution_count": null,
   "id": "b43fdca8",
   "metadata": {},
   "outputs": [],
   "source": [
    "# TODO: Divisez les données en train/test\n",
    "# Guide: Utilisez le même random_state que dans le cours pour la comparaison\n",
    "\n",
    "X_train, X_test, y_train, y_test = None, None, None, None  # Votre code ici\n",
    "\n",
    "# TODO: Standardisez les données si nécessaire\n",
    "scaler = StandardScaler()\n",
    "# Votre code de standardisation ici\n",
    "\n",
    "# TODO: Entraînez et évaluez chaque modèle\n",
    "final_results = {}\n",
    "\n",
    "for name, model in models.items():\n",
    "    print(f\"\\nÉvaluation finale de {name}:\")\n",
    "    \n",
    "    # TODO: Entraînez le modèle\n",
    "    # Votre code d'entraînement ici\n",
    "    \n",
    "    # TODO: Faites des prédictions\n",
    "    # Votre code de prédiction ici\n",
    "    \n",
    "    # TODO: Calculez les métriques\n",
    "    # Votre code de calcul des métriques ici\n",
    "    \n",
    "    # TODO: Stockez les résultats\n",
    "    final_results[name] = {\n",
    "        'accuracy': None,  # Vos résultats ici\n",
    "        'precision': None,\n",
    "        'recall': None,\n",
    "        'f1': None\n",
    "    }"
   ]
  },
  {
   "cell_type": "markdown",
   "id": "62fba136",
   "metadata": {
    "cell_marker": "\"\"\""
   },
   "source": [
    "### Question 10: Analyse des améliorations\n",
    "Comparez vos résultats avec ceux du cours. Avez-vous réussi à améliorer les performances ?"
   ]
  },
  {
   "cell_type": "code",
   "execution_count": null,
   "id": "d243746b",
   "metadata": {},
   "outputs": [],
   "source": [
    "# TODO: Créez un tableau comparatif\n",
    "# Résultats du cours (à remplir après avoir exécuté le notebook principal)\n",
    "course_results = {\n",
    "    'Naive Bayes': {'accuracy': 0.0},  # À remplir\n",
    "    'Decision Tree': {'accuracy': 0.0},  # À remplir\n",
    "    'Logistic Regression': {'accuracy': 0.0},  # À remplir\n",
    "    'KNN': {'accuracy': 0.0}  # À remplir\n",
    "}\n",
    "\n",
    "# TODO: Créez une visualisation comparative\n",
    "# Votre code de comparaison ici\n",
    "\n",
    "print(\"Comparaison avec les résultats du cours:\")\n",
    "# Votre code d'affichage ici"
   ]
  },
  {
   "cell_type": "markdown",
   "id": "c7e544f2",
   "metadata": {
    "cell_marker": "\"\"\""
   },
   "source": [
    "## 8. Conclusions et Apprentissages\n",
    "\n",
    "### Question 11: Réflexion finale\n",
    "Répondez aux questions suivantes basées sur votre travail :\n",
    "\n",
    "1. **Quels insights avez-vous tirés de l'EDA ?**\n",
    "2. **Quelles features créées ont été les plus utiles ?**\n",
    "3. **La validation croisée a-t-elle donné des résultats différents du simple train/test split ?**\n",
    "4. **Avez-vous réussi à améliorer les performances par rapport au cours ?**\n",
    "5. **Quelles sont les prochaines étapes pour améliorer encore les modèles ?**"
   ]
  },
  {
   "cell_type": "markdown",
   "id": "d0b9dae6",
   "metadata": {
    "cell_marker": "\"\"\""
   },
   "source": [
    "**Vos réponses:**\n",
    "\n",
    "1. **Insights de l'EDA:**\n",
    "   - \n",
    "   - \n",
    "   - \n",
    "\n",
    "2. **Features les plus utiles:**\n",
    "   - \n",
    "   - \n",
    "   - \n",
    "\n",
    "3. **Validation croisée vs Train/Test:**\n",
    "   - \n",
    "   - \n",
    "\n",
    "4. **Améliorations obtenues:**\n",
    "   - \n",
    "   - \n",
    "\n",
    "5. **Prochaines étapes:**\n",
    "   - \n",
    "   - \n",
    "   - \n",
    "\n",
    "## Félicitations !\n",
    "Vous avez terminé l'exercice d'analyse avancée du dataset Titanic. Vous avez maintenant une expérience pratique de l'EDA, de la validation croisée, et du feature engineering."
   ]
  }
 ],
 "metadata": {
  "jupytext": {
   "cell_metadata_filter": "-all",
   "main_language": "python",
   "notebook_metadata_filter": "-all"
  }
 },
 "nbformat": 4,
 "nbformat_minor": 5
}
